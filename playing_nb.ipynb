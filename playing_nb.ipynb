{
 "cells": [
  {
   "cell_type": "code",
   "execution_count": 2,
   "id": "initial_id",
   "metadata": {
    "collapsed": true,
    "ExecuteTime": {
     "end_time": "2024-12-14T16:44:59.032707900Z",
     "start_time": "2024-12-14T16:44:57.607213500Z"
    }
   },
   "outputs": [
    {
     "name": "stderr",
     "output_type": "stream",
     "text": [
      "[nltk_data] Downloading package brown to\n",
      "[nltk_data]     C:\\Users\\inbar\\AppData\\Roaming\\nltk_data...\n",
      "[nltk_data]   Package brown is already up-to-date!\n"
     ]
    },
    {
     "name": "stdout",
     "output_type": "stream",
     "text": [
      "Training set size: 4160 sentences\n",
      "Test set size: 463 sentences\n"
     ]
    }
   ],
   "source": [
    "import nltk\n",
    "from nltk.corpus import brown\n",
    "\n",
    "nltk.download('brown')\n",
    "\n",
    "# Load the tagged sentences from the 'news' category\n",
    "news_sentences = brown.tagged_sents(categories='news')\n",
    "\n",
    "# Calculate the split index for the last 10% of the sentences\n",
    "split_index = int(len(news_sentences) * 0.9)\n",
    "\n",
    "# Divide the sentences into training and test sets\n",
    "train_set = news_sentences[:split_index]\n",
    "test_set = news_sentences[split_index:]\n",
    "\n",
    "# Optionally, you can print the sizes of the train and test sets\n",
    "print(f\"Training set size: {len(train_set)} sentences\")\n",
    "print(f\"Test set size: {len(test_set)} sentences\")"
   ]
  },
  {
   "cell_type": "code",
   "execution_count": 51,
   "outputs": [],
   "source": [
    "import pandas as pd\n",
    "import ex3"
   ],
   "metadata": {
    "collapsed": false,
    "ExecuteTime": {
     "end_time": "2024-12-14T16:49:35.012264400Z",
     "start_time": "2024-12-14T16:49:34.926326600Z"
    }
   },
   "id": "fb6378f9c5118ca7"
  },
  {
   "cell_type": "code",
   "execution_count": 33,
   "outputs": [],
   "source": [
    "list_of_pd = []\n",
    "for i in range(len(train_set)):\n",
    "    list_of_pd.append(pd.DataFrame(train_set[i]))"
   ],
   "metadata": {
    "collapsed": false,
    "ExecuteTime": {
     "end_time": "2024-12-14T16:47:15.118665500Z",
     "start_time": "2024-12-14T16:47:14.164537700Z"
    }
   },
   "id": "c5f67c95237eb360"
  },
  {
   "cell_type": "code",
   "execution_count": 34,
   "outputs": [
    {
     "data": {
      "text/plain": "               0      1\n0            The     AT\n1           jury     NN\n2        further    RBR\n3           said    VBD\n4             in     IN\n5       term-end     NN\n6   presentments    NNS\n7           that     CS\n8            the     AT\n9           City  NN-TL\n10     Executive  JJ-TL\n11     Committee  NN-TL\n12             ,      ,\n13         which    WDT\n14           had    HVD\n15      over-all     JJ\n16        charge     NN\n17            of     IN\n18           the     AT\n19      election     NN\n20             ,      ,\n21            ``     ``\n22      deserves    VBZ\n23           the     AT\n24        praise     NN\n25           and     CC\n26        thanks    NNS\n27            of     IN\n28           the     AT\n29          City  NN-TL\n30            of  IN-TL\n31       Atlanta  NP-TL\n32            ''     ''\n33           for     IN\n34           the     AT\n35        manner     NN\n36            in     IN\n37         which    WDT\n38           the     AT\n39      election     NN\n40           was   BEDZ\n41     conducted    VBN\n42             .      .",
      "text/html": "<div>\n<style scoped>\n    .dataframe tbody tr th:only-of-type {\n        vertical-align: middle;\n    }\n\n    .dataframe tbody tr th {\n        vertical-align: top;\n    }\n\n    .dataframe thead th {\n        text-align: right;\n    }\n</style>\n<table border=\"1\" class=\"dataframe\">\n  <thead>\n    <tr style=\"text-align: right;\">\n      <th></th>\n      <th>0</th>\n      <th>1</th>\n    </tr>\n  </thead>\n  <tbody>\n    <tr>\n      <th>0</th>\n      <td>The</td>\n      <td>AT</td>\n    </tr>\n    <tr>\n      <th>1</th>\n      <td>jury</td>\n      <td>NN</td>\n    </tr>\n    <tr>\n      <th>2</th>\n      <td>further</td>\n      <td>RBR</td>\n    </tr>\n    <tr>\n      <th>3</th>\n      <td>said</td>\n      <td>VBD</td>\n    </tr>\n    <tr>\n      <th>4</th>\n      <td>in</td>\n      <td>IN</td>\n    </tr>\n    <tr>\n      <th>5</th>\n      <td>term-end</td>\n      <td>NN</td>\n    </tr>\n    <tr>\n      <th>6</th>\n      <td>presentments</td>\n      <td>NNS</td>\n    </tr>\n    <tr>\n      <th>7</th>\n      <td>that</td>\n      <td>CS</td>\n    </tr>\n    <tr>\n      <th>8</th>\n      <td>the</td>\n      <td>AT</td>\n    </tr>\n    <tr>\n      <th>9</th>\n      <td>City</td>\n      <td>NN-TL</td>\n    </tr>\n    <tr>\n      <th>10</th>\n      <td>Executive</td>\n      <td>JJ-TL</td>\n    </tr>\n    <tr>\n      <th>11</th>\n      <td>Committee</td>\n      <td>NN-TL</td>\n    </tr>\n    <tr>\n      <th>12</th>\n      <td>,</td>\n      <td>,</td>\n    </tr>\n    <tr>\n      <th>13</th>\n      <td>which</td>\n      <td>WDT</td>\n    </tr>\n    <tr>\n      <th>14</th>\n      <td>had</td>\n      <td>HVD</td>\n    </tr>\n    <tr>\n      <th>15</th>\n      <td>over-all</td>\n      <td>JJ</td>\n    </tr>\n    <tr>\n      <th>16</th>\n      <td>charge</td>\n      <td>NN</td>\n    </tr>\n    <tr>\n      <th>17</th>\n      <td>of</td>\n      <td>IN</td>\n    </tr>\n    <tr>\n      <th>18</th>\n      <td>the</td>\n      <td>AT</td>\n    </tr>\n    <tr>\n      <th>19</th>\n      <td>election</td>\n      <td>NN</td>\n    </tr>\n    <tr>\n      <th>20</th>\n      <td>,</td>\n      <td>,</td>\n    </tr>\n    <tr>\n      <th>21</th>\n      <td>``</td>\n      <td>``</td>\n    </tr>\n    <tr>\n      <th>22</th>\n      <td>deserves</td>\n      <td>VBZ</td>\n    </tr>\n    <tr>\n      <th>23</th>\n      <td>the</td>\n      <td>AT</td>\n    </tr>\n    <tr>\n      <th>24</th>\n      <td>praise</td>\n      <td>NN</td>\n    </tr>\n    <tr>\n      <th>25</th>\n      <td>and</td>\n      <td>CC</td>\n    </tr>\n    <tr>\n      <th>26</th>\n      <td>thanks</td>\n      <td>NNS</td>\n    </tr>\n    <tr>\n      <th>27</th>\n      <td>of</td>\n      <td>IN</td>\n    </tr>\n    <tr>\n      <th>28</th>\n      <td>the</td>\n      <td>AT</td>\n    </tr>\n    <tr>\n      <th>29</th>\n      <td>City</td>\n      <td>NN-TL</td>\n    </tr>\n    <tr>\n      <th>30</th>\n      <td>of</td>\n      <td>IN-TL</td>\n    </tr>\n    <tr>\n      <th>31</th>\n      <td>Atlanta</td>\n      <td>NP-TL</td>\n    </tr>\n    <tr>\n      <th>32</th>\n      <td>''</td>\n      <td>''</td>\n    </tr>\n    <tr>\n      <th>33</th>\n      <td>for</td>\n      <td>IN</td>\n    </tr>\n    <tr>\n      <th>34</th>\n      <td>the</td>\n      <td>AT</td>\n    </tr>\n    <tr>\n      <th>35</th>\n      <td>manner</td>\n      <td>NN</td>\n    </tr>\n    <tr>\n      <th>36</th>\n      <td>in</td>\n      <td>IN</td>\n    </tr>\n    <tr>\n      <th>37</th>\n      <td>which</td>\n      <td>WDT</td>\n    </tr>\n    <tr>\n      <th>38</th>\n      <td>the</td>\n      <td>AT</td>\n    </tr>\n    <tr>\n      <th>39</th>\n      <td>election</td>\n      <td>NN</td>\n    </tr>\n    <tr>\n      <th>40</th>\n      <td>was</td>\n      <td>BEDZ</td>\n    </tr>\n    <tr>\n      <th>41</th>\n      <td>conducted</td>\n      <td>VBN</td>\n    </tr>\n    <tr>\n      <th>42</th>\n      <td>.</td>\n      <td>.</td>\n    </tr>\n  </tbody>\n</table>\n</div>"
     },
     "execution_count": 34,
     "metadata": {},
     "output_type": "execute_result"
    }
   ],
   "source": [
    "list_of_pd[1]"
   ],
   "metadata": {
    "collapsed": false,
    "ExecuteTime": {
     "end_time": "2024-12-14T16:47:16.950953Z",
     "start_time": "2024-12-14T16:47:16.886459100Z"
    }
   },
   "id": "52c5593d9400ae51"
  },
  {
   "cell_type": "code",
   "execution_count": 35,
   "outputs": [],
   "source": [
    "df_train = pd.concat(list_of_pd)"
   ],
   "metadata": {
    "collapsed": false,
    "ExecuteTime": {
     "end_time": "2024-12-14T16:47:18.919891900Z",
     "start_time": "2024-12-14T16:47:18.647960Z"
    }
   },
   "id": "af09951e84eab9e3"
  },
  {
   "cell_type": "code",
   "execution_count": 36,
   "outputs": [],
   "source": [
    "df_train.columns = [\"name\",\"tag\"]"
   ],
   "metadata": {
    "collapsed": false,
    "ExecuteTime": {
     "end_time": "2024-12-14T16:47:19.841047200Z",
     "start_time": "2024-12-14T16:47:19.752683200Z"
    }
   },
   "id": "dfdafd4b39bf55c6"
  },
  {
   "cell_type": "code",
   "execution_count": 37,
   "outputs": [],
   "source": [
    "count_per_tag = df_train.groupby([\"name\", \"tag\"]).size().reset_index(name='appearances')\n"
   ],
   "metadata": {
    "collapsed": false,
    "ExecuteTime": {
     "end_time": "2024-12-14T16:47:20.741154800Z",
     "start_time": "2024-12-14T16:47:20.627678100Z"
    }
   },
   "id": "ea9b65288cec7584"
  },
  {
   "cell_type": "code",
   "execution_count": 38,
   "outputs": [],
   "source": [
    "count_per_word = df_train.groupby([\"name\"]).size().reset_index(name='total_word_appearances')\n"
   ],
   "metadata": {
    "collapsed": false,
    "ExecuteTime": {
     "end_time": "2024-12-14T16:47:21.443148800Z",
     "start_time": "2024-12-14T16:47:21.355443100Z"
    }
   },
   "id": "bb1c53de84f46f54"
  },
  {
   "cell_type": "code",
   "execution_count": 39,
   "outputs": [],
   "source": [
    "count_per_tag = count_per_tag.merge(count_per_word,on =\"name\",how = \"left\")"
   ],
   "metadata": {
    "collapsed": false,
    "ExecuteTime": {
     "end_time": "2024-12-14T16:47:22.160737500Z",
     "start_time": "2024-12-14T16:47:22.111991200Z"
    }
   },
   "id": "a5388f7f235fac83"
  },
  {
   "cell_type": "code",
   "execution_count": 40,
   "outputs": [],
   "source": [
    "count_per_tag[\"rate\"] = count_per_tag[\"appearances\"] /count_per_tag[\"total_word_appearances\"]"
   ],
   "metadata": {
    "collapsed": false,
    "ExecuteTime": {
     "end_time": "2024-12-14T16:47:22.651653800Z",
     "start_time": "2024-12-14T16:47:22.633283900Z"
    }
   },
   "id": "38656c0025fde09c"
  },
  {
   "cell_type": "code",
   "execution_count": 41,
   "outputs": [],
   "source": [
    "count_dict = {}\n",
    "\n",
    "for _, row in count_per_tag.iterrows():\n",
    "    word = row['name']\n",
    "    tag = row['tag']\n",
    "    appearances = row['rate']\n",
    "    \n",
    "    if word not in count_dict:\n",
    "        count_dict[word] = []\n",
    "    \n",
    "    # Append the (tag, appearances) tuple\n",
    "    count_dict[word].append((tag, appearances))\n",
    "\n",
    "# Sort each list of tags by appearances in descending order\n",
    "for word in count_dict:\n",
    "    count_dict[word] = sorted(count_dict[word], key=lambda x: x[1], reverse=True)\n"
   ],
   "metadata": {
    "collapsed": false,
    "ExecuteTime": {
     "end_time": "2024-12-14T16:47:24.952223800Z",
     "start_time": "2024-12-14T16:47:23.214644800Z"
    }
   },
   "id": "aeb9dd4c19fb32c9"
  },
  {
   "cell_type": "code",
   "execution_count": 42,
   "outputs": [],
   "source": [
    "list_of_pd_test = []\n",
    "for i in range(len(test_set)):\n",
    "    list_of_pd_test.append(pd.DataFrame(test_set[i]))\n",
    "df_test = pd.concat(list_of_pd_test)"
   ],
   "metadata": {
    "collapsed": false,
    "ExecuteTime": {
     "end_time": "2024-12-14T16:47:25.119201200Z",
     "start_time": "2024-12-14T16:47:24.952223800Z"
    }
   },
   "id": "95923c5924f596c2"
  },
  {
   "cell_type": "code",
   "execution_count": 43,
   "outputs": [],
   "source": [
    "df_test.columns = [\"name\",\"tag\"]"
   ],
   "metadata": {
    "collapsed": false,
    "ExecuteTime": {
     "end_time": "2024-12-14T16:47:26.081121100Z",
     "start_time": "2024-12-14T16:47:26.059762400Z"
    }
   },
   "id": "829d32a7a35b504b"
  },
  {
   "cell_type": "code",
   "execution_count": 44,
   "outputs": [],
   "source": [
    "def get_prob(word):\n",
    "    if count_dict.get(word):\n",
    "        return count_dict[word][0][0]\n",
    "    else:\n",
    "        return \"NN\""
   ],
   "metadata": {
    "collapsed": false,
    "ExecuteTime": {
     "end_time": "2024-12-14T16:47:27.139190700Z",
     "start_time": "2024-12-14T16:47:27.108185100Z"
    }
   },
   "id": "aa49a9e5c2b5ea11"
  },
  {
   "cell_type": "code",
   "execution_count": 45,
   "outputs": [],
   "source": [
    "df_test[\"predicted tag\"] = df_test.apply(lambda x:get_prob(x[\"name\"]),axis = 1)"
   ],
   "metadata": {
    "collapsed": false,
    "ExecuteTime": {
     "end_time": "2024-12-14T16:47:28.115005500Z",
     "start_time": "2024-12-14T16:47:28.018352200Z"
    }
   },
   "id": "ad98723b254a1ae4"
  },
  {
   "cell_type": "code",
   "execution_count": 46,
   "outputs": [],
   "source": [
    "accuracy = len(df_test[df_test[\"tag\"] == df_test[\"predicted tag\"]]) / len(df_test)"
   ],
   "metadata": {
    "collapsed": false,
    "ExecuteTime": {
     "end_time": "2024-12-14T16:47:28.999689500Z",
     "start_time": "2024-12-14T16:47:28.940442700Z"
    }
   },
   "id": "7eeda2a87c604ffb"
  },
  {
   "cell_type": "code",
   "execution_count": 49,
   "outputs": [
    {
     "data": {
      "text/plain": "0.8377354729393003"
     },
     "execution_count": 49,
     "metadata": {},
     "output_type": "execute_result"
    }
   ],
   "source": [
    "accuracy"
   ],
   "metadata": {
    "collapsed": false,
    "ExecuteTime": {
     "end_time": "2024-12-14T16:48:01.849952600Z",
     "start_time": "2024-12-14T16:48:01.769935Z"
    }
   },
   "id": "b7aff452213097ce"
  },
  {
   "cell_type": "code",
   "execution_count": 47,
   "outputs": [],
   "source": [
    "error_rate = 1 - accuracy"
   ],
   "metadata": {
    "collapsed": false,
    "ExecuteTime": {
     "end_time": "2024-12-14T16:47:29.624936100Z",
     "start_time": "2024-12-14T16:47:29.598938400Z"
    }
   },
   "id": "ed6506946bb4ef83"
  },
  {
   "cell_type": "code",
   "execution_count": 48,
   "outputs": [
    {
     "data": {
      "text/plain": "0.16226452706069971"
     },
     "execution_count": 48,
     "metadata": {},
     "output_type": "execute_result"
    }
   ],
   "source": [
    "error_rate"
   ],
   "metadata": {
    "collapsed": false,
    "ExecuteTime": {
     "end_time": "2024-12-14T16:47:30.862475400Z",
     "start_time": "2024-12-14T16:47:30.772765300Z"
    }
   },
   "id": "7f5fd2dcde9487b0"
  },
  {
   "cell_type": "code",
   "execution_count": 55,
   "outputs": [
    {
     "data": {
      "text/plain": "[('The', 'AT'),\n ('Fulton', 'NP-TL'),\n ('County', 'NN-TL'),\n ('Grand', 'JJ-TL'),\n ('Jury', 'NN-TL'),\n ('said', 'VBD'),\n ('Friday', 'NR'),\n ('an', 'AT'),\n ('investigation', 'NN'),\n ('of', 'IN'),\n (\"Atlanta's\", 'NP$'),\n ('recent', 'JJ'),\n ('primary', 'NN'),\n ('election', 'NN'),\n ('produced', 'VBD'),\n ('``', '``'),\n ('no', 'AT'),\n ('evidence', 'NN'),\n (\"''\", \"''\"),\n ('that', 'CS'),\n ('any', 'DTI'),\n ('irregularities', 'NNS'),\n ('took', 'VBD'),\n ('place', 'NN'),\n ('.', '.')]"
     },
     "execution_count": 55,
     "metadata": {},
     "output_type": "execute_result"
    }
   ],
   "source": [
    "train_set[0]"
   ],
   "metadata": {
    "collapsed": false,
    "ExecuteTime": {
     "end_time": "2024-12-14T16:52:02.376650400Z",
     "start_time": "2024-12-14T16:52:02.265883100Z"
    }
   },
   "id": "6a558d38aa53d946"
  },
  {
   "cell_type": "code",
   "execution_count": null,
   "outputs": [],
   "source": [],
   "metadata": {
    "collapsed": false
   },
   "id": "3900b62058f8b41"
  }
 ],
 "metadata": {
  "kernelspec": {
   "display_name": "Python 3",
   "language": "python",
   "name": "python3"
  },
  "language_info": {
   "codemirror_mode": {
    "name": "ipython",
    "version": 2
   },
   "file_extension": ".py",
   "mimetype": "text/x-python",
   "name": "python",
   "nbconvert_exporter": "python",
   "pygments_lexer": "ipython2",
   "version": "2.7.6"
  }
 },
 "nbformat": 4,
 "nbformat_minor": 5
}
