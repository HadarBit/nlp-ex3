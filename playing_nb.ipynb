{
 "cells": [
  {
   "cell_type": "code",
   "execution_count": 1,
   "id": "initial_id",
   "metadata": {
    "collapsed": true,
    "ExecuteTime": {
     "end_time": "2024-12-09T11:10:05.177282500Z",
     "start_time": "2024-12-09T11:10:00.434626600Z"
    }
   },
   "outputs": [
    {
     "name": "stderr",
     "output_type": "stream",
     "text": [
      "[nltk_data] Downloading package brown to\n",
      "[nltk_data]     C:\\Users\\inbar\\AppData\\Roaming\\nltk_data...\n",
      "[nltk_data]   Unzipping corpora\\brown.zip.\n"
     ]
    },
    {
     "name": "stdout",
     "output_type": "stream",
     "text": [
      "Training set size: 4160 sentences\n",
      "Test set size: 463 sentences\n"
     ]
    }
   ],
   "source": [
    "import nltk\n",
    "from nltk.corpus import brown\n",
    "\n",
    "nltk.download('brown')\n",
    "\n",
    "# Load the tagged sentences from the 'news' category\n",
    "news_sentences = brown.tagged_sents(categories='news')\n",
    "\n",
    "# Calculate the split index for the last 10% of the sentences\n",
    "split_index = int(len(news_sentences) * 0.9)\n",
    "\n",
    "# Divide the sentences into training and test sets\n",
    "train_set = news_sentences[:split_index]\n",
    "test_set = news_sentences[split_index:]\n",
    "\n",
    "# Optionally, you can print the sizes of the train and test sets\n",
    "print(f\"Training set size: {len(train_set)} sentences\")\n",
    "print(f\"Test set size: {len(test_set)} sentences\")"
   ]
  },
  {
   "cell_type": "code",
   "execution_count": 4,
   "outputs": [],
   "source": [
    "import pandas as pd"
   ],
   "metadata": {
    "collapsed": false,
    "ExecuteTime": {
     "end_time": "2024-12-09T11:15:25.390954200Z",
     "start_time": "2024-12-09T11:15:07.371043700Z"
    }
   },
   "id": "fb6378f9c5118ca7"
  },
  {
   "cell_type": "code",
   "execution_count": 6,
   "outputs": [],
   "source": [
    "list_of_pd = []\n",
    "for i in range(len(train_set)):\n",
    "    list_of_pd.append(pd.DataFrame(train_set[i]))"
   ],
   "metadata": {
    "collapsed": false,
    "ExecuteTime": {
     "end_time": "2024-12-09T11:16:25.876232100Z",
     "start_time": "2024-12-09T11:16:25.432248200Z"
    }
   },
   "id": "c5f67c95237eb360"
  },
  {
   "cell_type": "code",
   "execution_count": 8,
   "outputs": [
    {
     "data": {
      "text/plain": "               0      1\n0            The     AT\n1           jury     NN\n2        further    RBR\n3           said    VBD\n4             in     IN\n5       term-end     NN\n6   presentments    NNS\n7           that     CS\n8            the     AT\n9           City  NN-TL\n10     Executive  JJ-TL\n11     Committee  NN-TL\n12             ,      ,\n13         which    WDT\n14           had    HVD\n15      over-all     JJ\n16        charge     NN\n17            of     IN\n18           the     AT\n19      election     NN\n20             ,      ,\n21            ``     ``\n22      deserves    VBZ\n23           the     AT\n24        praise     NN\n25           and     CC\n26        thanks    NNS\n27            of     IN\n28           the     AT\n29          City  NN-TL\n30            of  IN-TL\n31       Atlanta  NP-TL\n32            ''     ''\n33           for     IN\n34           the     AT\n35        manner     NN\n36            in     IN\n37         which    WDT\n38           the     AT\n39      election     NN\n40           was   BEDZ\n41     conducted    VBN\n42             .      .",
      "text/html": "<div>\n<style scoped>\n    .dataframe tbody tr th:only-of-type {\n        vertical-align: middle;\n    }\n\n    .dataframe tbody tr th {\n        vertical-align: top;\n    }\n\n    .dataframe thead th {\n        text-align: right;\n    }\n</style>\n<table border=\"1\" class=\"dataframe\">\n  <thead>\n    <tr style=\"text-align: right;\">\n      <th></th>\n      <th>0</th>\n      <th>1</th>\n    </tr>\n  </thead>\n  <tbody>\n    <tr>\n      <th>0</th>\n      <td>The</td>\n      <td>AT</td>\n    </tr>\n    <tr>\n      <th>1</th>\n      <td>jury</td>\n      <td>NN</td>\n    </tr>\n    <tr>\n      <th>2</th>\n      <td>further</td>\n      <td>RBR</td>\n    </tr>\n    <tr>\n      <th>3</th>\n      <td>said</td>\n      <td>VBD</td>\n    </tr>\n    <tr>\n      <th>4</th>\n      <td>in</td>\n      <td>IN</td>\n    </tr>\n    <tr>\n      <th>5</th>\n      <td>term-end</td>\n      <td>NN</td>\n    </tr>\n    <tr>\n      <th>6</th>\n      <td>presentments</td>\n      <td>NNS</td>\n    </tr>\n    <tr>\n      <th>7</th>\n      <td>that</td>\n      <td>CS</td>\n    </tr>\n    <tr>\n      <th>8</th>\n      <td>the</td>\n      <td>AT</td>\n    </tr>\n    <tr>\n      <th>9</th>\n      <td>City</td>\n      <td>NN-TL</td>\n    </tr>\n    <tr>\n      <th>10</th>\n      <td>Executive</td>\n      <td>JJ-TL</td>\n    </tr>\n    <tr>\n      <th>11</th>\n      <td>Committee</td>\n      <td>NN-TL</td>\n    </tr>\n    <tr>\n      <th>12</th>\n      <td>,</td>\n      <td>,</td>\n    </tr>\n    <tr>\n      <th>13</th>\n      <td>which</td>\n      <td>WDT</td>\n    </tr>\n    <tr>\n      <th>14</th>\n      <td>had</td>\n      <td>HVD</td>\n    </tr>\n    <tr>\n      <th>15</th>\n      <td>over-all</td>\n      <td>JJ</td>\n    </tr>\n    <tr>\n      <th>16</th>\n      <td>charge</td>\n      <td>NN</td>\n    </tr>\n    <tr>\n      <th>17</th>\n      <td>of</td>\n      <td>IN</td>\n    </tr>\n    <tr>\n      <th>18</th>\n      <td>the</td>\n      <td>AT</td>\n    </tr>\n    <tr>\n      <th>19</th>\n      <td>election</td>\n      <td>NN</td>\n    </tr>\n    <tr>\n      <th>20</th>\n      <td>,</td>\n      <td>,</td>\n    </tr>\n    <tr>\n      <th>21</th>\n      <td>``</td>\n      <td>``</td>\n    </tr>\n    <tr>\n      <th>22</th>\n      <td>deserves</td>\n      <td>VBZ</td>\n    </tr>\n    <tr>\n      <th>23</th>\n      <td>the</td>\n      <td>AT</td>\n    </tr>\n    <tr>\n      <th>24</th>\n      <td>praise</td>\n      <td>NN</td>\n    </tr>\n    <tr>\n      <th>25</th>\n      <td>and</td>\n      <td>CC</td>\n    </tr>\n    <tr>\n      <th>26</th>\n      <td>thanks</td>\n      <td>NNS</td>\n    </tr>\n    <tr>\n      <th>27</th>\n      <td>of</td>\n      <td>IN</td>\n    </tr>\n    <tr>\n      <th>28</th>\n      <td>the</td>\n      <td>AT</td>\n    </tr>\n    <tr>\n      <th>29</th>\n      <td>City</td>\n      <td>NN-TL</td>\n    </tr>\n    <tr>\n      <th>30</th>\n      <td>of</td>\n      <td>IN-TL</td>\n    </tr>\n    <tr>\n      <th>31</th>\n      <td>Atlanta</td>\n      <td>NP-TL</td>\n    </tr>\n    <tr>\n      <th>32</th>\n      <td>''</td>\n      <td>''</td>\n    </tr>\n    <tr>\n      <th>33</th>\n      <td>for</td>\n      <td>IN</td>\n    </tr>\n    <tr>\n      <th>34</th>\n      <td>the</td>\n      <td>AT</td>\n    </tr>\n    <tr>\n      <th>35</th>\n      <td>manner</td>\n      <td>NN</td>\n    </tr>\n    <tr>\n      <th>36</th>\n      <td>in</td>\n      <td>IN</td>\n    </tr>\n    <tr>\n      <th>37</th>\n      <td>which</td>\n      <td>WDT</td>\n    </tr>\n    <tr>\n      <th>38</th>\n      <td>the</td>\n      <td>AT</td>\n    </tr>\n    <tr>\n      <th>39</th>\n      <td>election</td>\n      <td>NN</td>\n    </tr>\n    <tr>\n      <th>40</th>\n      <td>was</td>\n      <td>BEDZ</td>\n    </tr>\n    <tr>\n      <th>41</th>\n      <td>conducted</td>\n      <td>VBN</td>\n    </tr>\n    <tr>\n      <th>42</th>\n      <td>.</td>\n      <td>.</td>\n    </tr>\n  </tbody>\n</table>\n</div>"
     },
     "execution_count": 8,
     "metadata": {},
     "output_type": "execute_result"
    }
   ],
   "source": [
    "list_of_pd[1]"
   ],
   "metadata": {
    "collapsed": false,
    "ExecuteTime": {
     "end_time": "2024-12-09T11:16:51.050982Z",
     "start_time": "2024-12-09T11:16:51.025399100Z"
    }
   },
   "id": "52c5593d9400ae51"
  },
  {
   "cell_type": "code",
   "execution_count": 9,
   "outputs": [],
   "source": [
    "df_train = pd.concat(list_of_pd)"
   ],
   "metadata": {
    "collapsed": false,
    "ExecuteTime": {
     "end_time": "2024-12-09T11:17:02.831352Z",
     "start_time": "2024-12-09T11:17:02.756079900Z"
    }
   },
   "id": "af09951e84eab9e3"
  },
  {
   "cell_type": "code",
   "execution_count": 11,
   "outputs": [],
   "source": [
    "df_train.columns = [\"name\",\"tag\"]"
   ],
   "metadata": {
    "collapsed": false,
    "ExecuteTime": {
     "end_time": "2024-12-09T11:17:22.947007200Z",
     "start_time": "2024-12-09T11:17:22.927424200Z"
    }
   },
   "id": "dfdafd4b39bf55c6"
  },
  {
   "cell_type": "code",
   "execution_count": 28,
   "outputs": [],
   "source": [
    "count_per_tag = df_train.groupby([\"name\", \"tag\"]).size().reset_index(name='appearances')\n"
   ],
   "metadata": {
    "collapsed": false,
    "ExecuteTime": {
     "end_time": "2024-12-09T11:25:46.655411400Z",
     "start_time": "2024-12-09T11:25:46.609714100Z"
    }
   },
   "id": "ea9b65288cec7584"
  },
  {
   "cell_type": "code",
   "execution_count": 32,
   "outputs": [],
   "source": [
    "count_per_word = df_train.groupby([\"name\"]).size().reset_index(name='total_word_appearances')\n"
   ],
   "metadata": {
    "collapsed": false,
    "ExecuteTime": {
     "end_time": "2024-12-09T11:28:43.204032600Z",
     "start_time": "2024-12-09T11:28:43.178865700Z"
    }
   },
   "id": "bb1c53de84f46f54"
  },
  {
   "cell_type": "code",
   "execution_count": null,
   "outputs": [],
   "source": [],
   "metadata": {
    "collapsed": false
   },
   "id": "46efffd7da42d1f"
  },
  {
   "cell_type": "code",
   "execution_count": 33,
   "outputs": [],
   "source": [
    "count_per_tag = count_per_tag.merge(count_per_word,on =\"name\",how = \"left\")"
   ],
   "metadata": {
    "collapsed": false,
    "ExecuteTime": {
     "end_time": "2024-12-09T11:29:11.317972300Z",
     "start_time": "2024-12-09T11:29:11.283773200Z"
    }
   },
   "id": "a5388f7f235fac83"
  },
  {
   "cell_type": "code",
   "execution_count": 36,
   "outputs": [],
   "source": [
    "count_per_tag[\"rate\"] = count_per_tag[\"appearances\"] /count_per_tag[\"total_word_appearances\"]"
   ],
   "metadata": {
    "collapsed": false,
    "ExecuteTime": {
     "end_time": "2024-12-09T11:30:21.677110200Z",
     "start_time": "2024-12-09T11:30:21.668301400Z"
    }
   },
   "id": "38656c0025fde09c"
  },
  {
   "cell_type": "code",
   "execution_count": 37,
   "outputs": [],
   "source": [
    "count_dict = {}\n",
    "\n",
    "for _, row in count_per_tag.iterrows():\n",
    "    word = row['name']\n",
    "    tag = row['tag']\n",
    "    appearances = row['rate']\n",
    "    \n",
    "    if word not in count_dict:\n",
    "        count_dict[word] = []\n",
    "    \n",
    "    # Append the (tag, appearances) tuple\n",
    "    count_dict[word].append((tag, appearances))\n",
    "\n",
    "# Sort each list of tags by appearances in descending order\n",
    "for word in count_dict:\n",
    "    count_dict[word] = sorted(count_dict[word], key=lambda x: x[1], reverse=True)\n"
   ],
   "metadata": {
    "collapsed": false,
    "ExecuteTime": {
     "end_time": "2024-12-09T11:30:26.002804100Z",
     "start_time": "2024-12-09T11:30:25.683600300Z"
    }
   },
   "id": "aeb9dd4c19fb32c9"
  },
  {
   "cell_type": "code",
   "execution_count": 45,
   "outputs": [
    {
     "data": {
      "text/plain": "{'!': [('.', 0.9375), ('.-HL', 0.0625)],\n '$1': [('NN', 1.0)],\n '$1,000': [('NNS', 1.0)],\n '$1,000,000,000': [('NNS', 1.0)],\n '$1,500': [('NNS', 1.0)],\n '$1,500,000': [('NNS', 1.0)],\n '$1,600': [('NNS', 1.0)],\n '$1,800': [('NNS', 1.0)],\n '$1.1': [('NNS', 1.0)],\n '$1.4': [('NNS', 1.0)],\n '$1.5': [('NNS', 1.0)],\n '$1.80': [('NNS', 1.0)],\n '$10': [('NNS', 1.0)],\n '$10,000': [('NNS', 1.0)],\n '$100': [('NNS', 1.0)],\n '$102,285,000': [('NNS', 1.0)],\n '$109': [('NNS', 1.0)],\n '$11.50': [('NNS', 1.0)],\n '$115,000': [('NNS', 1.0)],\n '$12': [('NNS', 1.0)],\n '$12,192,865': [('NNS', 1.0)],\n '$12,500': [('NNS', 0.5), ('NNS-HL', 0.5)],\n '$12.50': [('NNS', 1.0)],\n '$12.7': [('NNS', 1.0)],\n '$120': [('NNS', 1.0)],\n '$125': [('NNS', 1.0)],\n '$135': [('NNS', 1.0)],\n '$14': [('NNS', 0.5), ('NNS-HL', 0.5)],\n '$15': [('NNS', 1.0)],\n '$15,000': [('NNS', 1.0)],\n '$15,000,000': [('NNS', 1.0)],\n '$150': [('NNS', 1.0)],\n '$157,460': [('NNS', 1.0)],\n '$16': [('NNS', 1.0)],\n '$17': [('NNS', 1.0)],\n '$17,000': [('NNS', 1.0)],\n '$17.8': [('NNS', 1.0)],\n '$172,000': [('NNS', 1.0)],\n '$172,400': [('NNS', 1.0)],\n '$18': [('NNS', 1.0)],\n '$18.2': [('NNS', 1.0)],\n '$18.9': [('NNS', 1.0)],\n '$2': [('NNS', 1.0)],\n '$2,000': [('NNS', 1.0)],\n '$2,170': [('NNS', 1.0)],\n '$2,330,000': [('NNS', 1.0)],\n '$2,700': [('NNS', 1.0)],\n '$2.50': [('NNS', 1.0)],\n '$20': [('NNS', 1.0)],\n '$20,000': [('NNS', 1.0)],\n '$20,447,000': [('NNS', 1.0)],\n '$200,000': [('NNS', 1.0)],\n '$214': [('NNS', 1.0)],\n '$22': [('NNS', 1.0)],\n '$22.50': [('NNS', 1.0)],\n '$2400': [('NNS', 1.0)],\n '$25': [('NNS', 1.0)],\n '$25,000': [('NNS', 1.0)],\n '$25-a-plate': [('NN', 1.0)],\n '$250': [('NNS', 1.0)],\n '$250,000': [('NNS', 1.0)],\n '$251': [('NNS', 1.0)],\n '$253,355,000': [('NNS', 1.0)],\n '$26,000,000': [('NNS', 1.0)],\n '$278,877,000': [('NNS', 1.0)],\n '$28': [('NNS', 1.0)],\n '$28,700,000': [('NNS', 1.0)],\n '$29,000': [('NNS', 1.0)],\n '$3': [('NNS', 1.0)],\n '$3,500': [('NNS', 1.0)],\n '$3,675': [('NNS', 1.0)],\n '$3.5': [('NNS', 1.0)],\n '$30': [('NNS', 1.0)],\n '$300,000,000': [('NNS', 1.0)],\n '$3100': [('NNS', 1.0)],\n '$325': [('NNS', 1.0)],\n '$344,000': [('NNS', 1.0)],\n '$37': [('NNS', 0.5), ('NNS-HL', 0.5)],\n '$37,500': [('NNS', 1.0)],\n '$39,000': [('NNS', 1.0)],\n '$39.5': [('NNS', 1.0)],\n '$4': [('NNS', 1.0)],\n '$4,177.37': [('NNS', 1.0)],\n '$4,500': [('NNS', 1.0)],\n '$4,700': [('NNS', 1.0)],\n '$4,800': [('NNS', 1.0)],\n '$40': [('NNS', 1.0)],\n '$40,000': [('NNS', 1.0)],\n '$40,000,000': [('NNS', 1.0)],\n '$400': [('NNS', 1.0)],\n '$43,000': [('NNS', 1.0)],\n '$45': [('NNS', 1.0)],\n '$450': [('NNS', 1.0)],\n '$451,500': [('NNS', 1.0)],\n '$457,000': [('NNS', 1.0)],\n '$47,101,000': [('NNS', 1.0)],\n '$5': [('NNS', 1.0)],\n '$5,000': [('NNS', 1.0)],\n '$5,000,000': [('NNS', 1.0)],\n '$50': [('NNS', 1.0)],\n '$50,000': [('NNS', 1.0)],\n '$500': [('NNS', 1.0)],\n '$5000': [('NNS', 1.0)],\n '$52,500': [('NNS', 1.0)],\n '$55,000': [('NNS', 1.0)],\n '$57,500': [('NNS', 1.0)],\n '$58,918': [('NNS', 1.0)],\n '$581,000': [('NNS', 1.0)],\n '$6,100,000,000': [('NNS', 1.0)],\n '$60': [('NNS', 1.0)],\n '$600': [('NNS', 1.0)],\n '$634,517,000': [('NNS', 1.0)],\n '$639': [('NNS', 1.0)],\n '$65': [('NNS', 1.0)],\n '$66,000': [('NNS', 1.0)],\n '$67,000': [('NNS', 1.0)],\n '$7,082': [('NNS', 1.0)],\n '$7,500,000': [('NNS', 1.0)],\n '$7.20': [('NNS', 1.0)],\n '$70': [('NNS', 1.0)],\n '$700': [('NNS', 1.0)],\n '$740,000': [('NNS', 1.0)],\n '$75': [('NNS', 1.0)],\n '$77,389,000': [('NNS', 1.0)],\n '$8': [('NNS', 1.0)],\n '$8,250': [('NNS', 1.0)],\n '$8,555': [('NNS', 1.0)],\n '$8.50': [('NNS', 1.0)],\n '$80': [('NNS', 1.0)],\n '$80,738': [('NNS', 1.0)],\n '$800': [('NNS', 1.0)],\n '$840,000': [('NNS', 1.0)],\n '$842,617': [('NNS', 1.0)],\n '$85': [('NNS', 1.0)],\n '$88,000': [('NNS', 1.0)],\n '$9': [('NNS', 1.0)],\n '$9,841,000': [('NNS', 1.0)],\n '$90': [('NNS', 1.0)],\n '$900': [('NNS', 1.0)],\n '&': [('CC-TL', 0.53125), ('CC', 0.4375), ('CC-HL', 0.03125)],\n \"'\": [(\"'\", 1.0)],\n \"''\": [(\"''\", 1.0)],\n \"'20's\": [('NNS', 1.0)],\n \"'40's\": [('NNS', 1.0)],\n \"'49\": [('CD', 1.0)],\n \"'51\": [('CD', 1.0)],\n \"'52\": [('CD', 1.0)],\n \"'55\": [('CD', 1.0)],\n \"'em\": [('PPO', 1.0)],\n '(': [('(', 0.8675496688741722), ('(-HL', 0.13245033112582782)],\n ')': [(')', 0.8701298701298701), (')-HL', 0.12987012987012986)],\n ',': [(',', 0.9882327304423622), (',-HL', 0.01176726955763783)],\n '--': [('--', 1.0)],\n '.': [('.', 0.9964058612109483), ('.-HL', 0.0035941387890517005)],\n '1': [('CD', 0.8478260869565217),\n  ('CD-HL', 0.08695652173913043),\n  ('CD-TL', 0.06521739130434782)],\n '1%': [('NN', 1.0)],\n '1,000': [('CD', 1.0)],\n '1,065': [('CD', 1.0)],\n '1,119': [('CD', 1.0)],\n '1,212,000': [('CD', 1.0)],\n '1,253': [('CD', 1.0)],\n '1,257,700': [('CD', 1.0)],\n '1,400': [('CD', 1.0)],\n '1,512': [('CD', 1.0)],\n '1,700': [('CD', 1.0)],\n '1-0': [('CD', 1.0)],\n '1-1/2': [('CD', 1.0)],\n '1-1/2-story': [('NN', 1.0)],\n '1-3': [('CD', 1.0)],\n '1-inch': [('NN', 1.0)],\n '1.09.3': [('CD', 1.0)],\n '1.10.1': [('CD', 1.0)],\n '1.10.4': [('CD', 1.0)],\n '1.10.8': [('CD', 1.0)],\n '1.23': [('CD', 1.0)],\n '1.24': [('CD', 1.0)],\n '1.5': [('CD', 1.0)],\n '1.58': [('CD', 1.0)],\n '10': [('CD', 0.9714285714285714), ('CD-TL', 0.02857142857142857)],\n '10%': [('NN', 1.0)],\n '10,000': [('CD', 1.0)],\n '10,000,000': [('CD', 1.0)],\n '10-hour': [('JJ', 1.0)],\n \"10-o'clock\": [('NN', 1.0)],\n '10-team': [('JJ', 1.0)],\n '10-year': [('JJ', 1.0)],\n '10-year-old': [('JJ', 1.0)],\n '100': [('CD', 1.0)],\n '100%': [('NN', 1.0)],\n '100,000': [('CD', 1.0)],\n '100-yard': [('JJ', 1.0)],\n '1000': [('CD', 1.0)],\n '101b': [('CD-TL', 1.0)],\n '102': [('CD', 1.0)],\n '1020': [('CD-TL', 1.0)],\n '1044': [('CD-TL', 1.0)],\n '108': [('CD', 1.0)],\n '10:30': [('CD', 1.0)],\n '10:45': [('CD', 1.0)],\n '10:50': [('CD', 1.0)],\n '10th': [('OD', 1.0)],\n '11': [('CD', 0.9411764705882353), ('CD-HL', 0.058823529411764705)],\n '11,744': [('CD', 1.0)],\n '11-18': [('CD', 1.0)],\n '11-3': [('CD', 1.0)],\n '11-5': [('CD', 1.0)],\n '11-7': [('CD', 1.0)],\n '11-month-old': [('JJ', 1.0)],\n '11-year': [('JJ', 1.0)],\n '11-year-old': [('JJ', 1.0)],\n '110': [('CD', 1.0)],\n '111': [('CD-TL', 1.0)],\n '114': [('CD', 1.0)],\n '116': [('CD-TL', 1.0)],\n '11:30': [('CD', 1.0)],\n '12': [('CD', 0.8666666666666667), ('CD-TL', 0.13333333333333333)],\n '12,000': [('CD', 1.0)],\n '12-17': [('CD', 1.0)],\n '12-year-old': [('JJ', 1.0)],\n '120': [('CD', 1.0)],\n '1200': [('CD', 1.0)],\n '1213': [('CD', 1.0)],\n '1213-15': [('CD-TL', 1.0)],\n '1215': [('CD-TL', 1.0)],\n '125,000': [('CD', 1.0)],\n '126': [('CD', 1.0)],\n '127': [('CD', 1.0)],\n '129%': [('NN', 1.0)],\n '12:01': [('CD', 1.0)],\n '12th': [('OD', 1.0)],\n '13': [('CD', 1.0)],\n '13%': [('NN', 1.0)],\n '13-1/2': [('CD', 1.0)],\n '13-5': [('CD', 1.0)],\n '13-8': [('CD', 1.0)],\n '130': [('CD', 1.0)],\n '130-year': [('JJ', 1.0)],\n '1311': [('CD', 1.0)],\n '132,000': [('CD', 1.0)],\n '133': [('CD', 0.5), ('CD-TL', 0.5)],\n '135': [('CD', 1.0)],\n '13th': [('OD', 1.0)],\n '14': [('CD', 0.9090909090909091), ('CD-TL', 0.09090909090909091)],\n '14%': [('NN', 1.0)],\n '14-power': [('JJ', 1.0)],\n '14-term': [('JJ', 1.0)],\n '14.2': [('CD', 1.0)],\n '1409': [('CD', 1.0)],\n '142': [('CD-TL', 1.0)],\n '145': [('CD', 1.0)],\n '145-pound': [('JJ', 1.0)],\n '149': [('CD', 1.0)],\n '14th': [('OD-TL', 1.0)],\n '15': [('CD', 0.9), ('CD-HL', 0.1)],\n '15-1': [('CD', 1.0)],\n '15-hit': [('JJ', 1.0)],\n '15-year-old': [('JJ', 1.0)],\n '150': [('CD', 1.0)],\n '150,000,000': [('CD', 1.0)],\n '1500': [('CD', 1.0)],\n '154': [('CD', 1.0)],\n '155-yarder': [('NN', 1.0)],\n '1565': [('CD-TL', 1.0)],\n '158-pounder': [('NN', 1.0)],\n '15th': [('OD', 1.0)],\n '16': [('CD', 0.8888888888888888), ('CD-HL', 0.1111111111111111)],\n '16,000': [('CD', 1.0)],\n '16-year-old': [('JJ', 1.0)],\n '160': [('CD', 1.0)],\n '1600': [('CD', 1.0)],\n '162': [('CD', 1.0)],\n '162-game': [('JJ', 1.0)],\n '1630': [('CD-TL', 1.0)],\n '165-unit': [('JJ', 1.0)],\n '1671': [('CD-TL', 1.0)],\n '1688': [('CD-TL', 1.0)],\n '169': [('CD', 1.0)],\n '16th': [('OD', 0.5), ('OD-TL', 0.5)],\n '17': [('CD', 0.5714285714285714), ('CD-HL', 0.42857142857142855)],\n '17,000': [('CD', 1.0)],\n '17-1/2-inch': [('JJ', 1.0)],\n '1733': [('CD-TL', 1.0)],\n '174': [('CD', 1.0)],\n '1776': [('CD', 1.0)],\n '1792': [('CD', 1.0)],\n '18': [('CD', 0.7647058823529411), ('CD-HL', 0.23529411764705882)],\n '18,792': [('CD', 1.0)],\n '180': [('CD', 1.0)],\n '180-degrees': [('NNS', 1.0)],\n \"1800's\": [('NNS', 1.0)],\n '182': [('CD', 1.0)],\n '1825': [('CD', 1.0)],\n '1834': [('CD', 1.0)],\n '185,000': [('CD', 1.0)],\n '1859': [('CD', 1.0)],\n '1865': [('CD', 1.0)],\n '187.5': [('CD', 1.0)],\n '1886': [('CD', 1.0)],\n '189': [('CD', 1.0)],\n '1891': [('CD', 1.0)],\n '1896': [('CD', 1.0)],\n '1899': [('CD', 1.0)],\n '18th': [('OD', 1.0)],\n '19': [('CD', 0.6), ('CD-HL', 0.2), ('CD-TL', 0.2)],\n '19-12': [('CD', 1.0)],\n '1900': [('CD', 1.0)],\n \"1900's\": [('NNS', 1.0)],\n '1910': [('CD', 1.0)],\n '1910-14': [('CD', 1.0)],\n '1912': [('CD', 1.0)],\n '1913': [('CD', 1.0)],\n '1914': [('CD', 1.0)],\n '1917': [('CD', 1.0)],\n '1919': [('CD', 1.0)],\n '1920': [('CD', 1.0)],\n '1920s': [('NNS', 1.0)],\n '1921': [('CD', 1.0)],\n '1922': [('CD', 1.0)],\n '1923': [('CD', 1.0)],\n '1924': [('CD', 1.0)],\n '1925': [('CD', 1.0)],\n '1926': [('CD-TL', 1.0)],\n '1927': [('CD', 1.0)],\n '1928': [('CD', 1.0)],\n '1930': [('CD', 1.0)],\n '1930s': [('NNS', 1.0)],\n '1932': [('CD', 1.0)],\n '1933': [('CD', 1.0)],\n '1934': [('CD', 1.0)],\n '1935': [('CD', 1.0)],\n '1937': [('CD', 1.0)],\n '1938': [('CD', 1.0)],\n '1940': [('CD', 1.0)],\n '1940s': [('NNS', 1.0)],\n '1942': [('CD', 1.0)],\n '1943': [('CD', 1.0)],\n '1944': [('CD', 1.0)],\n '1945': [('CD', 1.0)],\n '1946': [('CD', 1.0)],\n '1947': [('CD', 1.0)],\n '1947-49': [('CD', 1.0)],\n '1948': [('CD', 1.0)],\n '1949': [('CD', 1.0)],\n '195': [('CD', 1.0)],\n '1950': [('CD', 1.0)],\n '1950s': [('NNS', 1.0)],\n '1951': [('CD', 1.0)],\n '1952': [('CD', 1.0)],\n '1953': [('CD', 1.0)],\n '1954': [('CD', 0.875), ('CD-HL', 0.125)],\n '1955': [('CD', 1.0)],\n '1956': [('CD', 1.0)],\n '1957': [('CD', 1.0)],\n '1958': [('CD', 1.0)],\n '1958-60': [('CD', 1.0)],\n '1959': [('CD', 1.0)],\n '1959-60': [('CD', 1.0)],\n '1960': [('CD', 1.0)],\n \"1960's\": [('CD$', 0.6666666666666666), ('NNS', 0.3333333333333333)],\n '1960-61': [('CD', 1.0)],\n '1960s': [('NNS', 1.0)],\n '1961': [('CD', 1.0)],\n '1961-62': [('CD', 1.0)],\n '1962': [('CD', 1.0)],\n '1963': [('CD', 1.0)],\n '1964': [('CD', 1.0)],\n '1966': [('CD', 1.0)],\n '1970': [('CD', 1.0)],\n '1970s': [('NNS', 1.0)],\n '1971': [('CD', 1.0)],\n '1976': [('CD', 1.0)],\n '198': [('CD-TL', 1.0)],\n '1981': [('CD', 1.0)],\n '1986': [('CD', 0.6666666666666666), ('CD-HL', 0.3333333333333333)],\n '1991': [('CD', 1.0)],\n '19th': [('OD', 1.0)],\n '1:48': [('CD', 1.0)],\n '2': [('CD', 0.8387096774193549),\n  ('CD-TL', 0.12903225806451613),\n  ('CD-HL', 0.03225806451612903)],\n '2%': [('NN', 1.0)],\n '2,418': [('CD', 1.0)],\n '2,700,877': [('CD', 1.0)],\n '2,963': [('CD', 1.0)],\n '2-1/2': [('CD', 1.0)],\n '2-3/4': [('CD', 1.0)],\n '2-and-2': [('CD', 1.0)],\n '2-baser': [('NN', 1.0)],\n '2-hour-and-27-minute': [('JJ', 1.0)],\n '2-inch': [('JJ', 1.0)],\n '2-over-par': [('JJ', 1.0)],\n '2-run': [('JJ', 1.0)],\n '2-score-year': [('JJ', 1.0)],\n '2.21.6': [('CD', 1.0)],\n '2.295%': [('NN', 1.0)],\n '2.325%': [('NN', 1.0)],\n '2.5%': [('NN', 1.0)],\n '20': [('CD', 1.0)],\n '20%': [('NN', 1.0)],\n '20,000': [('CD', 1.0)],\n '20-piece': [('NN', 1.0)],\n '200': [('CD', 1.0)],\n '205-pound': [('JJ', 1.0)],\n '206': [('CD', 1.0)],\n '208-pound': [('JJ', 1.0)],\n '21': [('CD', 1.0)],\n '21-2': [('CD', 1.0)],\n '21-9': [('CD', 1.0)],\n '21-year-old': [('JJ', 1.0)],\n '210': [('CD', 1.0)],\n '2100': [('CD', 1.0)],\n '211': [('CD-TL', 1.0)],\n '213': [('CD', 1.0)],\n '214': [('CD-TL', 1.0)],\n '215': [('CD-TL', 1.0)],\n '21st': [('OD', 1.0)],\n '22': [('CD', 0.8125), ('CD-TL', 0.1875)],\n '22-12': [('CD', 1.0)],\n '22-acre': [('JJ', 1.0)],\n '22-year-old': [('JJ', 1.0)],\n '220-yard': [('JJ', 1.0)],\n '22111': [('CD-TL', 1.0)],\n '2269': [('CD-TL', 1.0)],\n '2274': [('CD-TL', 1.0)],\n '228-229': [('CD-TL', 1.0)],\n '229': [('CD-TL', 1.0)],\n '23': [('CD', 0.7777777777777778),\n  ('CD-HL', 0.1111111111111111),\n  ('CD-TL', 0.1111111111111111)],\n '23-year-old': [('JJ', 1.0)],\n '237%': [('NN', 1.0)],\n '23d': [('OD', 1.0)],\n '24': [('CD', 0.7), ('CD-HL', 0.3)],\n '24-inch': [('JJ', 1.0)],\n '24-year-old': [('NN', 1.0)],\n '240': [('CD', 1.0)],\n '242%': [('NN', 1.0)],\n '2433': [('CD', 1.0)],\n '24th': [('OD', 0.6666666666666666), ('OD-TL', 0.3333333333333333)],\n '25': [('CD', 0.9375), ('CD-TL', 0.0625)],\n '25%': [('NN', 1.0)],\n '25-foot': [('JJ', 1.0)],\n '25-footer': [('NN', 1.0)],\n '25-minute': [('JJ', 1.0)],\n '250': [('CD', 1.0)],\n '250-275': [('CD', 1.0)],\n '2544': [('CD-TL', 1.0)],\n '255': [('CD-TL', 1.0)],\n '25th': [('OD', 1.0)],\n '26': [('CD', 0.8571428571428571), ('CD-HL', 0.14285714285714285)],\n '26-year-old': [('JJ', 1.0)],\n '260-member': [('JJ', 1.0)],\n '27': [('CD', 1.0)],\n '27-year-old': [('JJ', 1.0)],\n '2705': [('CD', 1.0)],\n '271': [('CD', 1.0)],\n '273': [('CD', 1.0)],\n '2731': [('CD-TL', 1.0)],\n '28': [('CD', 1.0)],\n '280': [('CD', 1.0)],\n '280-yard': [('NN', 1.0)],\n '2809': [('CD', 1.0)],\n '281': [('CD', 1.0)],\n '2825': [('CD-TL', 1.0)],\n '28th': [('OD', 1.0)],\n '29': [('CD', 1.0)],\n '29-5': [('CD', 1.0)],\n '29th': [('OD', 1.0)],\n '2:30': [('CD', 1.0)],\n '2d': [('OD', 0.5), ('OD-TL', 0.5)],\n '2nd': [('OD', 1.0)],\n '3': [('CD', 0.72),\n  ('CD-TL', 0.12),\n  ('CD-HL', 0.08),\n  ('OD', 0.04),\n  ('OD-TL', 0.04)],\n '3,000': [('CD', 1.0)],\n '3,325': [('CD', 1.0)],\n '3,399': [('CD', 1.0)],\n '3-0': [('CD', 1.0)],\n '3-10': [('CD', 1.0)],\n '3-5': [('CD', 1.0)],\n '3-game': [('JJ', 1.0)],\n '3-hitter': [('NN', 1.0)],\n '3-inch': [('JJ', 1.0)],\n '3-month': [('JJ', 1.0)],\n '3-run': [('JJ', 1.0)],\n '3-to-3': [('CD', 1.0)],\n '3-to-o': [('NN', 1.0)],\n '3-year-old': [('JJ', 1.0)],\n '3.1': [('CD', 1.0)],\n '3.25': [('CD', 1.0)],\n '3.28': [('CD', 1.0)],\n '3.98': [('CD', 1.0)],\n '30': [('CD', 1.0)],\n '30,000': [('CD', 1.0)],\n '30,000,000': [('CD', 1.0)],\n '30-30': [('CD', 1.0)],\n '300': [('CD', 1.0)],\n '300,000': [('CD', 1.0)],\n '300-450': [('CD', 1.0)],\n '30th': [('OD-TL', 1.0)],\n '31': [('CD', 1.0)],\n '31730': [('CD-TL', 1.0)],\n '3181': [('CD-TL', 1.0)],\n '31978': [('CD-TL', 1.0)],\n '31st': [('OD', 1.0)],\n '32,000': [('CD', 1.0)],\n '32,589': [('CD', 1.0)],\n '3211': [('CD', 1.0)],\n '3247': [('CD-TL', 1.0)],\n '325': [('CD', 1.0)],\n '33': [('CD', 1.0)],\n '33-man': [('JJ', 1.0)],\n '330': [('CD', 1.0)],\n '3300': [('CD-TL', 1.0)],\n '33d': [('OD', 1.0)],\n '34': [('CD', 1.0)],\n '34.7': [('CD', 1.0)],\n '340-blast': [('NN', 1.0)],\n '34220': [('CD-TL', 1.0)],\n '343': [('CD', 1.0)],\n '35': [('CD', 1.0)],\n '350': [('CD', 1.0)],\n '3505o': [('CD-TL', 1.0)],\n '354': [('CD', 1.0)],\n '355': [('CD', 1.0)],\n '357': [('CD-TL', 1.0)],\n '36': [('CD', 1.0)],\n '361': [('CD', 1.0)],\n '3646': [('CD', 1.0)],\n '36th': [('OD', 1.0)],\n '37': [('CD', 1.0)],\n '37,000': [('CD', 1.0)],\n '37,679': [('CD', 1.0)],\n '37-year-old': [('JJ', 1.0)],\n '375': [('CD', 1.0)],\n '38': [('CD', 1.0)],\n '38-7': [('CD', 1.0)],\n '38-point': [('JJ', 1.0)],\n '380-foot': [('JJ', 1.0)],\n '39': [('CD', 1.0)],\n '390-foot': [('JJ', 1.0)],\n '3:30': [('CD', 1.0)],\n '3rd': [('OD-TL', 1.0)],\n '4': [('CD', 0.9130434782608695), ('CD-TL', 0.08695652173913043)],\n '4,441': [('CD', 1.0)],\n '4,500': [('CD', 1.0)],\n '4-0': [('CD', 1.0)],\n '4-1/2%': [('NN', 1.0)],\n '4-13': [('CD', 1.0)],\n '4-7/8': [('CD', 1.0)],\n '4-H': [('NN', 1.0)],\n '4-for-5': [('CD', 1.0)],\n '4-homer': [('JJ', 1.0)],\n '4-under-par': [('JJ', 1.0)],\n '4-year': [('JJ', 1.0)],\n '4-year-old': [('JJ', 1.0)],\n '4.4': [('CD', 1.0)],\n '40': [('CD', 0.8333333333333334), ('CD-TL', 0.16666666666666666)],\n '40%': [('NN', 1.0)],\n '40-year-old': [('JJ', 1.0)],\n '400': [('CD', 1.0)],\n '400,000,000': [('CD', 1.0)],\n '402': [('CD', 1.0)],\n '41': [('CD', 1.0)],\n '41-8': [('CD', 1.0)],\n '415': [('CD', 1.0)],\n '42': [('CD', 1.0)],\n '420': [('CD', 1.0)],\n '42d': [('OD', 1.0)],\n '43': [('CD', 1.0)],\n '44': [('CD', 1.0)],\n '44-year-old': [('JJ', 1.0)],\n '447': [('CD', 1.0)],\n '45': [('CD', 1.0)],\n '45-degree': [('JJ', 1.0)],\n '450': [('CD', 1.0)],\n '46': [('CD', 1.0)],\n '469': [('CD', 1.0)],\n '46th': [('OD', 1.0)],\n '47': [('CD', 1.0)],\n '48': [('CD', 0.6666666666666666), ('CD-TL', 0.3333333333333333)],\n '480': [('CD', 1.0)],\n '49': [('CD', 1.0)],\n '4911': [('CD', 1.0)],\n '49ers': [('NPS', 1.0)],\n '4:05': [('CD', 1.0)],\n '4:30': [('CD', 1.0)],\n '4th': [('OD', 1.0)],\n '5': [('CD', 0.8571428571428571), ('CD-TL', 0.14285714285714285)],\n '5%': [('NN', 1.0)],\n '5,000': [('CD', 1.0)],\n '5-1': [('CD', 1.0)],\n '5-3': [('CD', 1.0)],\n '5-4': [('CD', 1.0)],\n '5-5': [('CD', 1.0)],\n '5-day': [('JJ', 1.0)],\n '5-game': [('JJ', 1.0)],\n '5-run': [('JJ', 1.0)],\n '5-to-2': [('CD', 1.0)],\n '5-to-3': [('CD', 1.0)],\n '5.1': [('CD', 1.0)],\n '50': [('CD', 1.0)],\n '50%': [('NN', 1.0)],\n '500': [('CD', 1.0)],\n '5000': [('CD', 1.0)],\n '508-yard': [('JJ', 1.0)],\n '50th': [('OD', 0.5), ('OD-TL', 0.5)],\n '51': [('CD', 1.0)],\n '511': [('CD-TL', 1.0)],\n '5155': [('CD-TL', 1.0)],\n '51st': [('OD', 0.5), ('OD-TL', 0.5)],\n '52': [('CD', 1.0)],\n '52-year': [('JJ', 1.0)],\n '520-acre': [('JJ', 1.0)],\n '53-year-old': [('JJ', 1.0)],\n '54': [('CD', 1.0)],\n '540': [('CD', 1.0)],\n '543': [('CD-TL', 1.0)],\n '545-yard': [('JJ', 1.0)],\n '55': [('CD', 1.0)],\n '553': [('CD-TL', 1.0)],\n '56': [('CD', 1.0)],\n '56-yard': [('JJ', 1.0)],\n '5777': [('CD', 1.0)],\n '58': [('CD', 1.0)],\n '5835': [('CD', 1.0)],\n '5847': [('CD-TL', 1.0)],\n '58th': [('OD', 1.0)],\n '59': [('CD', 1.0)],\n '5:30': [('CD', 1.0)],\n '6': [('CD', 1.0)],\n '6,000': [('CD', 1.0)],\n '6-12': [('CD', 1.0)],\n '6-3': [('CD', 1.0)],\n '6-3-3': [('CD', 1.0)],\n '6-5': [('CD', 1.0)],\n '6-6': [('CD', 1.0)],\n '6-7': [('CD', 1.0)],\n '6-foot': [('JJ', 1.0)],\n '6-foot-10': [('JJ', 1.0)],\n '6-foot-3-inch': [('JJ', 1.0)],\n '6-ounce': [('JJ', 1.0)],\n '6.5': [('CD', 1.0)],\n '60': [('CD', 1.0)],\n '60,000': [('CD', 1.0)],\n '60-day': [('JJ', 1.0)],\n '60-inch': [('JJ', 1.0)],\n '600-yard': [('JJ', 1.0)],\n '61': [('CD', 1.0)],\n '6124': [('CD', 1.0)],\n '61st': [('OD-TL', 1.0)],\n '62-year-old': [('JJ', 1.0)],\n '63': [('CD', 1.0)],\n '637': [('CD', 1.0)],\n '64': [('CD', 1.0)],\n '64-cent': [('JJ', 1.0)],\n '645-acre': [('JJ', 1.0)],\n '646': [('CD', 1.0)],\n '65': [('CD', 1.0)],\n '65,000': [('CD', 1.0)],\n '67': [('CD', 1.0)],\n '67-year-old': [('JJ', 1.0)],\n '675': [('CD', 1.0)],\n '676': [('CD-TL', 1.0)],\n '677': [('CD', 1.0)],\n '68': [('CD', 1.0)],\n '687.87': [('CD', 1.0)],\n '69': [('CD', 1.0)],\n '6934': [('CD', 1.0)],\n '695': [('CD', 1.0)],\n '6:15': [('CD', 1.0)],\n '6th': [('OD', 1.0)],\n '7': [('CD', 0.7647058823529411),\n  ('CD-HL', 0.17647058823529413),\n  ('CD-TL', 0.058823529411764705)],\n '7,000': [('CD', 1.0)],\n '7-6': [('CD', 1.0)],\n '7-9': [('CD', 1.0)],\n '7-day': [('JJ', 1.0)],\n '7.19': [('CD', 1.0)],\n '7.5': [('CD', 1.0)],\n '70': [('CD', 1.0)],\n '70,000': [('CD', 1.0)],\n '700': [('CD', 1.0)],\n '7026': [('CD', 1.0)],\n '7034': [('CD', 1.0)],\n '704': [('CD-TL', 1.0)],\n '71': [('CD', 1.0)],\n '72': [('CD', 1.0)],\n '72-hole': [('JJ', 1.0)],\n '72nd': [('OD', 1.0)],\n '73': [('CD', 1.0)],\n '734': [('CD-TL', 1.0)],\n '74': [('CD', 1.0)],\n '75': [('CD', 1.0)],\n '75-minute': [('JJ', 1.0)],\n '750': [('CD', 1.0)],\n '7599': [('CD', 1.0)],\n '75th': [('OD', 1.0)],\n '76': [('CD', 1.0)],\n '767': [('CD', 1.0)],\n '77': [('CD', 0.5), ('CD-TL', 0.5)],\n '770': [('CD', 1.0)],\n '798': [('CD-TL', 1.0)],\n '7:30': [('CD', 1.0)],\n '7:45': [('CD', 1.0)],\n '7A': [('CD-TL', 1.0)],\n '8': [('CD', 0.95), ('CD-TL', 0.05)],\n '8%': [('NN', 1.0)],\n '8,000': [('CD', 1.0)],\n '8,280': [('CD', 0.5), ('CD-HL', 0.5)],\n '8,293': [('CD', 1.0)],\n '8-4': [('CD', 1.0)],\n '8-year-old': [('JJ', 1.0)],\n '80': [('CD', 1.0)],\n '800': [('CD', 1.0)],\n '81': [('CD', 1.0)],\n '823': [('CD-TL', 1.0)],\n '83': [('CD-TL', 1.0)],\n '85': [('CD', 1.0)],\n '85-piece': [('JJ', 1.0)],\n '85-student': [('JJ', 1.0)],\n '86': [('CD', 1.0)],\n '869': [('CD', 1.0)],\n '87': [('CD', 1.0)],\n '87-1/2': [('CD', 1.0)],\n '87-31': [('CD', 1.0)],\n '87th': [('OD', 1.0)],\n '88': [('CD', 1.0)],\n '8861': [('CD', 1.0)],\n '8:30': [('CD', 1.0)],\n '8th': [('OD', 1.0)],\n '9': [('CD', 0.5384615384615384),\n  ('CD-HL', 0.3076923076923077),\n  ('CD-TL', 0.15384615384615385)],\n '9,273': [('CD', 1.0)],\n '9-6': [('CD', 1.0)],\n '9-7': [('CD', 1.0)],\n '90': [('CD', 1.0)],\n '90%': [('NN', 1.0)],\n '90-day': [('JJ', 1.0)],\n '900': [('CD', 1.0)],\n '900-student': [('JJ', 1.0)],\n '92': [('CD', 1.0)],\n '923,076': [('CD', 1.0)],\n '9230': [('CD-TL', 1.0)],\n '93': [('CD', 1.0)],\n '9329': [('CD-TL', 1.0)],\n '949': [('CD', 1.0)],\n '95': [('CD', 0.5), ('CD-TL', 0.5)],\n '96': [('CD', 1.0)],\n '963': [('CD-TL', 1.0)],\n '99': [('CD-TL', 1.0)],\n '9:30': [('CD', 1.0)],\n '9:40': [('CD', 1.0)],\n '9th': [('OD', 1.0)],\n ':': [(':', 0.944), (':-HL', 0.056)],\n ';': [('.', 1.0)],\n '?': [('.', 1.0)],\n 'A': [('AT', 0.9047619047619048),\n  ('NN', 0.05555555555555555),\n  ('AT-TL', 0.023809523809523808),\n  ('AT-HL', 0.015873015873015872)],\n \"A's\": [('NN', 1.0)],\n 'A.': [('NP', 1.0)],\n 'A.A.U.': [('NP-TL', 1.0)],\n \"A.A.U.'s\": [('NP$', 1.0)],\n 'A.M.': [('RB', 1.0)],\n 'A135': [('NNS-HL', 1.0)],\n 'ADC': [('NN', 1.0)],\n 'AF': [('NN', 1.0)],\n 'AFL-CIO': [('NN', 1.0)],\n 'AID': [('NN', 1.0)],\n \"AID's\": [('NN', 1.0)],\n 'AM': [('NN', 1.0)],\n 'AP': [('NP-HL', 0.7142857142857143), ('NP', 0.2857142857142857)],\n 'ARF': [('NP', 1.0)],\n 'ASDIC': [('NN', 1.0)],\n 'Aaron': [('NP', 1.0)],\n 'Abatuno': [('NP', 1.0)],\n 'Abbey': [('NN-TL', 1.0)],\n 'Abe': [('NP', 1.0)],\n 'Abel': [('NP', 1.0)],\n 'Abell': [('NP', 1.0)],\n 'Abner': [('NP', 1.0)],\n 'Abolition': [('NN-TL', 1.0)],\n 'About': [('RB', 1.0)],\n 'Above': [('IN', 1.0)],\n 'Abra': [('NP', 1.0)],\n 'Abraham': [('NP', 1.0)],\n 'Academy': [('NN-TL', 1.0)],\n 'Accardo': [('NP', 1.0)],\n 'Accepted': [('VBN-TL', 1.0)],\n 'Accounting': [('VBG', 1.0)],\n 'Ace': [('NN-TL', 1.0)],\n 'Achaeans': [('NPS', 1.0)],\n \"Achaeans'\": [('NPS$', 1.0)],\n 'Achievement': [('NN-TL', 1.0)],\n 'Acres': [('NNS-TL', 1.0)],\n 'Act': [('NN-TL', 1.0)],\n 'Acting': [('VBG', 0.6666666666666666), ('VBG-TL', 0.3333333333333333)],\n 'Action': [('NN', 0.5), ('NN-TL', 0.5)],\n 'Actor-Crooner': [('NN-TL', 1.0)],\n 'Actress': [('NN-TL', 1.0)],\n 'Actually': [('RB', 1.0)],\n 'Adair': [('NP', 1.0)],\n \"Adair's\": [('NP$', 1.0)],\n 'Adam': [('NP', 1.0)],\n 'Adams': [('NP', 1.0)],\n 'Adamson': [('NP', 1.0)],\n 'Adcock': [('NP', 1.0)],\n 'Add': [('VB', 1.0)],\n 'Adequate': [('JJ', 1.0)],\n 'Aderholds': [('NPS', 1.0)],\n 'Adjusted': [('VBN', 1.0)],\n 'Adlai': [('NP', 1.0)],\n 'Administration': [('NN-TL', 1.0)],\n \"Administration's\": [('NN$-TL', 1.0)],\n 'Administrative': [('JJ-TL', 1.0)],\n 'Administrator': [('NN-TL', 1.0)],\n 'Admitting': [('VBG', 1.0)],\n 'Adnan': [('NP', 1.0)],\n 'Advance': [('JJ', 1.0)],\n 'Adventures': [('NNS-TL', 1.0)],\n 'Advisors': [('NNS', 1.0)],\n 'Advisory': [('JJ-TL', 1.0)],\n 'Aeronautics': [('NN-TL', 1.0)],\n 'Affaire': [('NP', 1.0)],\n 'Affairs': [('NNS-TL', 1.0)],\n 'Africa': [('NP', 0.75), ('NP-TL', 0.25)],\n 'African': [('NP-TL', 1.0)],\n 'Afro-Cuban': [('JJ', 1.0)],\n 'After': [('IN', 0.5833333333333334), ('CS', 0.4166666666666667)],\n 'Afterward': [('RB', 1.0)],\n 'Afterwards': [('RB', 1.0)],\n 'Again': [('RB', 1.0)],\n 'Agencies': [('NNS-TL', 1.0)],\n 'Agency': [('NN-TL', 1.0)],\n 'Aggies': [('NPS', 1.0)],\n 'Agriculture': [('NN-TL', 1.0)],\n 'Ah': [('UH', 1.0)],\n 'Aid': [('NN-HL', 1.0)],\n 'Aiding': [('VBG-TL', 1.0)],\n 'Aiken': [('NP-TL', 1.0)],\n 'Aikin': [('NP', 1.0)],\n 'Ainsley': [('NP', 1.0)],\n 'Ainsworth': [('NP', 1.0)],\n 'Air': [('NN-TL', 1.0)],\n 'Aircraft': [('NN-TL', 1.0)],\n \"Airline's\": [('NN$-TL', 1.0)],\n 'Airport': [('NN-TL', 1.0)],\n 'Aj': [('NN', 1.0)],\n 'Al': [('NP', 0.8888888888888888), ('FW-AT-HL', 0.1111111111111111)],\n \"Al's\": [('NP$', 1.0)],\n 'Ala.': [('NP', 0.8571428571428571), ('NP-HL', 0.14285714285714285)],\n 'Alan': [('NP', 1.0)],\n 'Alba': [('NP', 1.0)],\n 'Albacore': [('NP', 1.0)],\n 'Albany': [('NP', 1.0)],\n 'Albert': [('NP', 1.0)],\n 'Alden': [('NP', 1.0)],\n 'Aldo': [('NP', 1.0)],\n 'Alex': [('NP', 1.0)],\n 'Alexander': [('NP', 1.0)],\n 'Alexandria': [('NP', 1.0)],\n 'Alfred': [('NP', 1.0)],\n 'Alice': [('NP', 1.0)],\n 'All': [('ABN', 0.9375), ('ABN-HL', 0.0625)],\n 'Alla': [('NP', 1.0)],\n 'Allan': [('NP', 1.0)],\n 'Allegretti': [('NP', 1.0)],\n 'Allen': [('NP', 1.0)],\n 'Allied': [('VBN-TL', 1.0)],\n 'Allies': [('NNS-TL', 1.0)],\n 'Allison': [('NP', 1.0)],\n \"Allison's\": [('NP$', 1.0)],\n 'Almost': [('RB', 1.0)],\n 'Along': [('IN', 0.6666666666666666), ('RB', 0.3333333333333333)],\n 'Alpha': [('NP', 1.0)],\n 'Alpharetta': [('NP', 1.0)],\n 'Also': [('RB', 1.0)],\n 'Alsop': [('NP', 1.0)],\n 'Altar': [('NN-TL', 1.0)],\n 'Althaus': [('NP', 1.0)],\n 'Although': [('CS', 1.0)],\n 'Alto': [('NP', 1.0)],\n 'Alton': [('NP', 1.0)],\n 'Alusik': [('NP', 1.0)],\n \"Alusik's\": [('NP$', 1.0)],\n 'Alva': [('NP', 1.0)],\n 'Alvin': [('NP', 0.6666666666666666), ('NP-HL', 0.3333333333333333)],\n 'Always': [('RB', 1.0)],\n 'Amateur': [('NN-TL', 1.0)],\n 'Ambassador': [('NN-TL', 1.0)],\n 'Ambassador-designate': [('NN-TL', 1.0)],\n 'America': [('NP-TL', 0.6666666666666666), ('NP', 0.3333333333333333)],\n \"America's\": [('NP$', 1.0)],\n 'American': [('JJ', 0.5645161290322581),\n  ('JJ-TL', 0.4032258064516129),\n  ('NP', 0.03225806451612903)],\n 'Americana': [('NP', 1.0)],\n 'Americans': [('NPS', 1.0)],\n 'Among': [('IN', 1.0)],\n 'An': [('AT', 1.0)],\n 'Analysts': [('NNS', 1.0)],\n 'Anatole': [('NP', 1.0)],\n 'Ancient': [('JJ-TL', 1.0)],\n 'And': [('CC', 0.9705882352941176), ('CC-TL', 0.029411764705882353)],\n 'Anderlini': [('NP', 1.0)],\n 'Anderson': [('NP', 0.875), ('NP-TL', 0.125)],\n \"Anderson's\": [('NP$', 1.0)],\n 'Andover': [('NP', 1.0)],\n 'Andrew': [('NP', 1.0)],\n 'Andy': [('NP', 1.0)],\n 'Angel': [('NN-TL', 1.0)],\n 'Angeles': [('NP', 0.7272727272727273), ('NP-TL', 0.2727272727272727)],\n \"Angeles'\": [('NP$', 1.0)],\n 'Angelico': [('NP', 1.0)],\n 'Angelo': [('NP', 1.0)],\n 'Angels': [('NNS-TL', 1.0)],\n 'Angola': [('NP', 1.0)],\n 'Anita': [('NP', 1.0)],\n 'Ankara': [('NP-HL', 1.0)],\n 'Ann': [('NP', 1.0)],\n 'Anna': [('NP', 1.0)],\n 'Annamorena': [('NP', 1.0)],\n 'Annapolis': [('NP-HL', 0.5),\n  ('NP', 0.3333333333333333),\n  ('NP-TL', 0.16666666666666666)],\n 'Anne': [('NP', 0.7142857142857143), ('NP-TL', 0.2857142857142857)],\n \"Anne's\": [('NP$-TL', 1.0)],\n 'Anniston': [('NP', 1.0)],\n 'Anniversary': [('NN-TL', 1.0)],\n 'Another': [('DT', 1.0)],\n 'Anson': [('NP', 1.0)],\n 'Answer': [('NN-HL', 1.0)],\n 'Anthony': [('NP', 1.0)],\n 'Anti-Communist': [('JJ', 1.0)],\n 'Anticipated': [('VBN', 1.0)],\n 'Antone': [('NP', 1.0)],\n 'Antonio': [('NP', 1.0)],\n 'Any': [('DTI', 1.0)],\n 'Anyone': [('PN', 1.0)],\n 'Anywhere': [('RB-TL', 1.0)],\n 'Aparicio': [('NP', 1.0)],\n 'Apart': [('RB', 1.0)],\n 'Apartment': [('NN-TL', 1.0)],\n 'Apartments': [('NNS-TL', 1.0)],\n 'App': [('NP', 1.0)],\n 'Apparently': [('RB', 1.0)],\n 'Appeal': [('NN-TL', 1.0)],\n 'Appeals': [('NNS-TL', 0.75), ('NNS', 0.25)],\n 'Appointment': [('NN', 1.0)],\n 'Appropriately': [('RB', 1.0)],\n 'Appropriations': [('NNS-TL', 1.0)],\n 'April': [('NP', 0.8947368421052632), ('NP-HL', 0.10526315789473684)],\n 'April-June': [('NP', 1.0)],\n 'Aquinas': [('NP-TL', 1.0)],\n 'Arab': [('NP-TL', 1.0)],\n 'Arata': [('NP', 1.0)],\n 'Archives': [('NNS-TL', 1.0)],\n 'Arden': [('NP-TL', 1.0)],\n 'Are': [('BER', 0.5), ('BER-TL', 0.5)],\n 'Area': [('NN-TL', 1.0)],\n 'Arger': [('NP', 1.0)],\n 'Ariz.': [('NP', 1.0)],\n 'Arkansas': [('NP', 1.0)],\n \"Arkansas'\": [('NP$', 1.0)],\n 'Arlington': [('NP-TL', 1.0)],\n 'Armed': [('VBN', 0.5), ('VBN-TL', 0.5)],\n 'Armenian': [('JJ', 1.0)],\n 'Armisteads': [('NPS', 1.0)],\n 'Armond': [('NP', 1.0)],\n 'Armory': [('NN-TL', 1.0)],\n 'Armour': [('NP', 1.0)],\n 'Arms': [('NNS-HL', 0.5), ('NNS-TL', 0.5)],\n 'Army': [('NN-TL', 1.0)],\n \"Army's\": [('NN$-TL', 1.0)],\n 'Arnold': [('NP', 1.0)],\n \"Arnold's\": [('NP$', 1.0)],\n 'Arranging': [('VBG', 1.0)],\n 'Arrington': [('NP', 1.0)],\n 'Arrow': [('NN-TL', 1.0)],\n 'Arshinkoff': [('NP', 1.0)],\n 'Art': [('NP', 0.75), ('NN-TL', 0.25)],\n \"Art's\": [('NN$-TL', 1.0)],\n 'Arthur': [('NP', 1.0)],\n 'Artist': [('NN-TL', 1.0)],\n 'Arts': [('NNS-TL', 1.0)],\n 'Arundel': [('NP', 0.6), ('NP-TL', 0.4)],\n 'Arvey': [('NP', 1.0)],\n 'As': [('CS', 0.8709677419354839),\n  ('QL', 0.0967741935483871),\n  ('IN', 0.03225806451612903)],\n 'Ashman': [('NP', 1.0)],\n 'Asia': [('NP-TL', 0.8333333333333334), ('NP', 0.16666666666666666)],\n 'Asian': [('JJ', 0.6666666666666666), ('JJ-TL', 0.3333333333333333)],\n 'Asilomar': [('NP-HL', 1.0)],\n 'Ask': [('VB-HL', 1.0)],\n 'Asked': [('VBN', 0.8), ('VBD', 0.2)],\n 'Asks': [('VBZ-HL', 1.0)],\n 'Assemblies': [('NNS-TL', 1.0)],\n 'Assembly': [('NN-TL', 1.0)],\n 'Assistant': [('NN', 1.0)],\n 'Assisting': [('VBG', 1.0)],\n 'Assn.': [('NN-TL', 1.0)],\n 'Associated': [('VBN-TL', 1.0)],\n 'Association': [('NN-TL', 1.0)],\n 'Associations': [('NNS-TL', 1.0)],\n 'Assuming': [('VBG', 1.0)],\n 'At': [('IN', 1.0)],\n 'Athlete': [('NN-TL', 1.0)],\n 'Athletic': [('JJ-TL', 1.0)],\n 'Athletics': [('NNS-TL', 1.0)],\n 'Atlanta': [('NP', 0.7142857142857143), ('NP-TL', 0.2857142857142857)],\n \"Atlanta's\": [('NP$', 1.0)],\n 'Atlantic': [('NP-TL', 0.5), ('JJ', 0.25), ('JJ-TL', 0.25)],\n 'Atlee': [('NP', 1.0)],\n 'Attacks': [('VBZ-HL', 1.0)],\n ...}"
     },
     "execution_count": 45,
     "metadata": {},
     "output_type": "execute_result"
    }
   ],
   "source": [
    "count_dict[0][0]"
   ],
   "metadata": {
    "collapsed": false,
    "ExecuteTime": {
     "end_time": "2024-12-09T11:35:55.575538900Z",
     "start_time": "2024-12-09T11:35:55.544023500Z"
    }
   },
   "id": "6d92c50f8f71cfcd"
  },
  {
   "cell_type": "code",
   "execution_count": 41,
   "outputs": [],
   "source": [
    "list_of_pd_test = []\n",
    "for i in range(len(test_set)):\n",
    "    list_of_pd_test.append(pd.DataFrame(test_set[i]))\n",
    "df_test = pd.concat(list_of_pd_test)"
   ],
   "metadata": {
    "collapsed": false,
    "ExecuteTime": {
     "end_time": "2024-12-09T11:34:42.022352800Z",
     "start_time": "2024-12-09T11:34:41.968970100Z"
    }
   },
   "id": "95923c5924f596c2"
  },
  {
   "cell_type": "code",
   "execution_count": 44,
   "outputs": [],
   "source": [
    "df_test.columns = [\"name\",\"tag\"]"
   ],
   "metadata": {
    "collapsed": false,
    "ExecuteTime": {
     "end_time": "2024-12-09T11:35:19.656030200Z",
     "start_time": "2024-12-09T11:35:19.645805300Z"
    }
   },
   "id": "829d32a7a35b504b"
  },
  {
   "cell_type": "code",
   "execution_count": 48,
   "outputs": [],
   "source": [
    "def get_prob(word):\n",
    "    if count_dict.get(word):\n",
    "        return count_dict[word][0][0]\n",
    "    else:\n",
    "        return \"NN\""
   ],
   "metadata": {
    "collapsed": false,
    "ExecuteTime": {
     "end_time": "2024-12-09T11:37:12.642860400Z",
     "start_time": "2024-12-09T11:37:12.632066700Z"
    }
   },
   "id": "aa49a9e5c2b5ea11"
  },
  {
   "cell_type": "code",
   "execution_count": 51,
   "outputs": [],
   "source": [
    "df_test[\"predicted tag\"] = df_test.apply(lambda x:get_prob(x[\"name\"]),axis = 1)"
   ],
   "metadata": {
    "collapsed": false,
    "ExecuteTime": {
     "end_time": "2024-12-09T11:37:55.035339400Z",
     "start_time": "2024-12-09T11:37:54.962310500Z"
    }
   },
   "id": "ad98723b254a1ae4"
  },
  {
   "cell_type": "code",
   "execution_count": 56,
   "outputs": [],
   "source": [
    "accuracy = len(df_test[df_test[\"tag\"] == df_test[\"predicted tag\"]]) / len(df_test)"
   ],
   "metadata": {
    "collapsed": false,
    "ExecuteTime": {
     "end_time": "2024-12-09T11:38:50.533734100Z",
     "start_time": "2024-12-09T11:38:50.512642100Z"
    }
   },
   "id": "7eeda2a87c604ffb"
  },
  {
   "cell_type": "code",
   "execution_count": 57,
   "outputs": [],
   "source": [
    "error_rate = 1 - accuracy"
   ],
   "metadata": {
    "collapsed": false,
    "ExecuteTime": {
     "end_time": "2024-12-09T11:38:57.331694100Z",
     "start_time": "2024-12-09T11:38:57.315819900Z"
    }
   },
   "id": "ed6506946bb4ef83"
  },
  {
   "cell_type": "code",
   "execution_count": null,
   "outputs": [],
   "source": [],
   "metadata": {
    "collapsed": false
   },
   "id": "7f5fd2dcde9487b0"
  }
 ],
 "metadata": {
  "kernelspec": {
   "display_name": "Python 3",
   "language": "python",
   "name": "python3"
  },
  "language_info": {
   "codemirror_mode": {
    "name": "ipython",
    "version": 2
   },
   "file_extension": ".py",
   "mimetype": "text/x-python",
   "name": "python",
   "nbconvert_exporter": "python",
   "pygments_lexer": "ipython2",
   "version": "2.7.6"
  }
 },
 "nbformat": 4,
 "nbformat_minor": 5
}
